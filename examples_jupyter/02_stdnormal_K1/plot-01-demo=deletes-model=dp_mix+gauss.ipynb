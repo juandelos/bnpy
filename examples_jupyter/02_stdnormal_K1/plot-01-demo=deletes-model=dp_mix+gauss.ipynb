{
  "cells": [
    {
      "cell_type": "code",
      "execution_count": null,
      "metadata": {
        "collapsed": false
      },
      "outputs": [],
      "source": [
        "%matplotlib inline"
      ]
    },
    {
      "cell_type": "markdown",
      "metadata": {},
      "source": [
        "\n# Variational with merge and delete proposals for DP mixtures of Gaussians\n\nHow delete moves can be more effective than merges.\n\nIn this example, we show how merge moves alone may not be enough \nto reliably escape local optima. Instead, we show that more flexible\ndelete moves can escape from situations where merges alone fail.\n"
      ]
    },
    {
      "cell_type": "code",
      "execution_count": null,
      "metadata": {
        "collapsed": false
      },
      "outputs": [],
      "source": [
        "# SPECIFY WHICH PLOT CREATED BY THIS SCRIPT IS THE THUMBNAIL IMAGE\n# sphinx_gallery_thumbnail_number = 2\n\nimport bnpy\nimport numpy as np\nimport os\n\nfrom matplotlib import pylab\nimport seaborn as sns\n\nFIG_SIZE = (3, 3)\npylab.rcParams['figure.figsize'] = FIG_SIZE"
      ]
    },
    {
      "cell_type": "markdown",
      "metadata": {},
      "source": [
        "Create toy dataset of many points drawn from standard normal\n\n"
      ]
    },
    {
      "cell_type": "code",
      "execution_count": null,
      "metadata": {
        "collapsed": false
      },
      "outputs": [],
      "source": [
        "prng = np.random.RandomState(42)\nX = prng.randn(100000, 1)\ndataset = bnpy.data.XData(X, name='StandardNormalK1')"
      ]
    },
    {
      "cell_type": "markdown",
      "metadata": {},
      "source": [
        "Make a simple plot of the raw data\n\n"
      ]
    },
    {
      "cell_type": "code",
      "execution_count": null,
      "metadata": {
        "collapsed": false
      },
      "outputs": [],
      "source": [
        "pylab.hist(dataset.X[:, 0], 50, density=True)\npylab.xlabel('x')\npylab.ylabel('p(x)')\npylab.tight_layout()"
      ]
    },
    {
      "cell_type": "markdown",
      "metadata": {},
      "source": [
        "## Setup: Determine specific settings of the proposals\n\n"
      ]
    },
    {
      "cell_type": "code",
      "execution_count": null,
      "metadata": {
        "collapsed": false
      },
      "outputs": [],
      "source": [
        "merge_kwargs = dict(\n    m_startLap=10,\n    m_pair_ranking_procedure='total_size',\n    m_pair_ranking_direction='descending',\n    )\n\ndelete_kwargs = dict(\n    d_startLap=10,\n    d_nRefineSteps=50,\n    )"
      ]
    },
    {
      "cell_type": "markdown",
      "metadata": {},
      "source": [
        "## Setup: Helper function to display the learned clusters\n\n"
      ]
    },
    {
      "cell_type": "code",
      "execution_count": null,
      "metadata": {
        "collapsed": false
      },
      "outputs": [],
      "source": [
        "def show_clusters_over_time(\n        task_output_path=None,\n        query_laps=[0, 1, 2, 10, 20, None],\n        nrows=2):\n    '''\n    '''\n    ncols = int(np.ceil(len(query_laps) // float(nrows)))\n    fig_handle, ax_handle_list = pylab.subplots(\n        figsize=(FIG_SIZE[0] * ncols, FIG_SIZE[1] * nrows),\n        nrows=nrows, ncols=ncols, sharex=True, sharey=True)\n    for plot_id, lap_val in enumerate(query_laps):\n        cur_model, lap_val = bnpy.load_model_at_lap(task_output_path, lap_val)\n        cur_ax_handle = ax_handle_list.flatten()[plot_id]\n        bnpy.viz.PlotComps.plotCompsFromHModel(\n            cur_model, dataset=dataset, ax_handle=cur_ax_handle)\n        cur_ax_handle.set_xlim([-4.5, 4.5])\n        cur_ax_handle.set_xlabel(\"lap: %d\" % lap_val)\n    pylab.tight_layout()"
      ]
    },
    {
      "cell_type": "markdown",
      "metadata": {},
      "source": [
        "## Run with *merge* moves only, from K=5 initial clusters\n\nUnfortunately, no pairwise merge is accepted.\nThe model is stuck using 5 clusters when one cluster would do.\n\n"
      ]
    },
    {
      "cell_type": "code",
      "execution_count": null,
      "metadata": {
        "collapsed": false
      },
      "outputs": [],
      "source": [
        "gamma = 5.0\nsF = 0.1\nK = 5\n\nm_trained_model, m_info_dict = bnpy.run(\n    dataset, 'DPMixtureModel', 'Gauss', 'memoVB',\n    output_path=('/tmp/StandardNormalK1/' + \n        'trymoves-K=%d-gamma=%s-ECovMat=%s*eye-moves=merge,shuffle/' % (\n            K, gamma, sF)),\n    nLap=100, nTask=1, nBatch=1,\n    gamma0=gamma, sF=sF, ECovMat='eye',\n    K=K, initname='randexamplesbydist',\n    moves='merge,shuffle',\n    **dict(**merge_kwargs))\n\nshow_clusters_over_time(m_info_dict['task_output_path'])"
      ]
    },
    {
      "cell_type": "markdown",
      "metadata": {},
      "source": [
        "## Run with *delete* moves, from K=5 initial clusters\n\nMore flexible delete moves *are* accepted.\n\n"
      ]
    },
    {
      "cell_type": "code",
      "execution_count": null,
      "metadata": {
        "collapsed": false
      },
      "outputs": [],
      "source": [
        "d_trained_model, d_info_dict = bnpy.run(\n    dataset, 'DPMixtureModel', 'Gauss', 'memoVB',\n    output_path=('/tmp/StandardNormalK1/' + \n        'trymoves-K=%d-gamma=%s-ECovMat=%s*eye-moves=delete,shuffle/' % (\n            K, gamma, sF)),\n    nLap=100, nTask=1, nBatch=1,\n    gamma0=gamma, sF=sF, ECovMat='eye',\n    K=K, initname='randexamplesbydist',\n    moves='delete,shuffle',\n    **dict(delete_kwargs))\n\nshow_clusters_over_time(d_info_dict['task_output_path'])"
      ]
    },
    {
      "cell_type": "markdown",
      "metadata": {},
      "source": [
        "## Loss function trace plot\n\n\n"
      ]
    },
    {
      "cell_type": "code",
      "execution_count": null,
      "metadata": {
        "collapsed": false
      },
      "outputs": [],
      "source": [
        "pylab.plot(\n    m_info_dict['lap_history'][1:],\n    m_info_dict['loss_history'][1:], 'k.-',\n    label='vb_with_merges')\npylab.plot(\n    d_info_dict['lap_history'][1:],\n    d_info_dict['loss_history'][1:], 'b.-',\n    label='vb_with_deletes')\npylab.legend(loc='upper right')\npylab.xlabel('num. laps')\npylab.ylabel('loss')\npylab.tight_layout()"
      ]
    }
  ],
  "metadata": {
    "kernelspec": {
      "display_name": "Python 3",
      "language": "python",
      "name": "python3"
    },
    "language_info": {
      "codemirror_mode": {
        "name": "ipython",
        "version": 3
      },
      "file_extension": ".py",
      "mimetype": "text/x-python",
      "name": "python",
      "nbconvert_exporter": "python",
      "pygments_lexer": "ipython3",
      "version": "3.8.13"
    }
  },
  "nbformat": 4,
  "nbformat_minor": 0
}