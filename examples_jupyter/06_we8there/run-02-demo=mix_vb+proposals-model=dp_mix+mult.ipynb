{
  "cells": [
    {
      "cell_type": "code",
      "execution_count": null,
      "metadata": {
        "collapsed": false
      },
      "outputs": [],
      "source": [
        "%matplotlib inline"
      ]
    },
    {
      "cell_type": "markdown",
      "metadata": {},
      "source": [
        "\n# VB coordinate descent for DP Mixture of Multinomials\n"
      ]
    },
    {
      "cell_type": "code",
      "execution_count": null,
      "metadata": {
        "collapsed": false
      },
      "outputs": [],
      "source": [
        "import bnpy\nimport numpy as np\nimport os\n\nfrom matplotlib import pylab\nimport seaborn as sns\n\nFIG_SIZE = (3, 3)\nSMALL_FIG_SIZE = (1,1)\npylab.rcParams['figure.figsize'] = FIG_SIZE\n\ntop_word_kws = dict(\n    wordSizeLimit=15,\n    ncols=4,\n    Ktop=10)"
      ]
    },
    {
      "cell_type": "markdown",
      "metadata": {},
      "source": [
        "Read text dataset from file\n\n"
      ]
    },
    {
      "cell_type": "code",
      "execution_count": null,
      "metadata": {
        "collapsed": false
      },
      "outputs": [],
      "source": [
        "dataset_path = os.path.join(bnpy.DATASET_PATH, 'we8there', 'raw')\ndataset = bnpy.data.BagOfWordsData.read_npz(\n    os.path.join(dataset_path, 'dataset.npz'),\n    vocabfile=os.path.join(dataset_path, 'x_csc_colnames.txt'))\n\n# Filter out documents with less than 20 words\ndoc_ids = np.flatnonzero(\n    dataset.getDocTypeCountMatrix().sum(axis=1) >= 20)\ndataset = dataset.make_subset(docMask=doc_ids, doTrackFullSize=False)"
      ]
    },
    {
      "cell_type": "markdown",
      "metadata": {},
      "source": [
        "Make a simple plot of the raw data\n\n"
      ]
    },
    {
      "cell_type": "code",
      "execution_count": null,
      "metadata": {
        "collapsed": false
      },
      "outputs": [],
      "source": [
        "bnpy.viz.PrintTopics.plotCompsFromWordCounts(\n    dataset.getDocTypeCountMatrix()[:10],\n    vocabList=dataset.vocabList,\n    prefix='doc',\n    **top_word_kws)"
      ]
    },
    {
      "cell_type": "markdown",
      "metadata": {},
      "source": [
        "## Train with birth and merge proposals\n\nTake the best of 1 initializations\n\nIdeally, we'd run this longer, but this is convenient for rapid inspection.\n\n"
      ]
    },
    {
      "cell_type": "code",
      "execution_count": null,
      "metadata": {
        "collapsed": false
      },
      "outputs": [],
      "source": [
        "merge_kwargs = dict(\n    m_startLap=5,\n    m_pair_ranking_procedure='elbo',\n    m_pair_ranking_direction='descending',\n    m_pair_ranking_do_exclude_by_thr=1,\n    m_pair_ranking_exclusion_thr=-0.0005,\n    )\n\ntrained_model, info_dict = bnpy.run(\n    dataset, 'DPMixtureModel', 'Mult', 'memoVB',\n    output_path='/tmp/we8there/helloworld-model=dp_mix+mult-K=30/',\n    nLap=15, convergeThr=0.0001, nTask=1, nBatch=1,\n    K=30, initname='bregmankmeans+lam1+iter1',\n    gamma0=50.0, lam=0.1,\n    moves='birth,merge,shuffle',\n    b_startLap=2, b_Kfresh=5, b_stopLap=10,\n    **merge_kwargs)\n\nbnpy.viz.PrintTopics.plotCompsFromHModel(\n    trained_model,\n    vocabList=dataset.vocabList,\n    **top_word_kws)"
      ]
    }
  ],
  "metadata": {
    "kernelspec": {
      "display_name": "Python 3",
      "language": "python",
      "name": "python3"
    },
    "language_info": {
      "codemirror_mode": {
        "name": "ipython",
        "version": 3
      },
      "file_extension": ".py",
      "mimetype": "text/x-python",
      "name": "python",
      "nbconvert_exporter": "python",
      "pygments_lexer": "ipython3",
      "version": "3.8.13"
    }
  },
  "nbformat": 4,
  "nbformat_minor": 0
}