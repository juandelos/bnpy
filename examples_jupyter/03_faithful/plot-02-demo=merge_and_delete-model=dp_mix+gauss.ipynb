{
  "cells": [
    {
      "cell_type": "code",
      "execution_count": null,
      "metadata": {
        "collapsed": false
      },
      "outputs": [],
      "source": [
        "%matplotlib inline"
      ]
    },
    {
      "cell_type": "markdown",
      "metadata": {},
      "source": [
        "\n# Variational with merge and delete proposals for DP mixtures of Gaussians\n\nHow delete moves can be more effective than merges.\n\nIn this example, we show how merge moves alone may not be enough \nto reliably escape local optima. Instead, we show that more flexible\ndelete moves can escape from situations where merges alone fail.\n"
      ]
    },
    {
      "cell_type": "code",
      "execution_count": null,
      "metadata": {
        "collapsed": false
      },
      "outputs": [],
      "source": [
        "import bnpy\nimport numpy as np\nimport os\n\nfrom matplotlib import pylab\nimport seaborn as sns\n\nFIG_SIZE = (3, 3)\npylab.rcParams['figure.figsize'] = FIG_SIZE"
      ]
    },
    {
      "cell_type": "markdown",
      "metadata": {},
      "source": [
        "Load dataset from file\n\n"
      ]
    },
    {
      "cell_type": "code",
      "execution_count": null,
      "metadata": {
        "collapsed": false
      },
      "outputs": [],
      "source": [
        "dataset_path = os.path.join(bnpy.DATASET_PATH, 'faithful')\ndataset = bnpy.data.XData.read_csv(\n    os.path.join(dataset_path, 'faithful.csv'))"
      ]
    },
    {
      "cell_type": "markdown",
      "metadata": {},
      "source": [
        "Make a simple plot of the raw data\n\n"
      ]
    },
    {
      "cell_type": "code",
      "execution_count": null,
      "metadata": {
        "collapsed": false
      },
      "outputs": [],
      "source": [
        "pylab.plot(dataset.X[:, 0], dataset.X[:, 1], 'k.')\npylab.xlabel(dataset.column_names[0])\npylab.ylabel(dataset.column_names[1])\npylab.tight_layout()\ndata_ax_h = pylab.gca()"
      ]
    },
    {
      "cell_type": "markdown",
      "metadata": {},
      "source": [
        "## Setup: Determine specific settings of the proposals\n\n"
      ]
    },
    {
      "cell_type": "code",
      "execution_count": null,
      "metadata": {
        "collapsed": false
      },
      "outputs": [],
      "source": [
        "merge_kwargs = dict(\n    m_startLap=10,\n    m_pair_ranking_procedure='total_size',\n    m_pair_ranking_direction='descending',\n    )\n\ndelete_kwargs = dict(\n    d_startLap=20,\n    d_nRefineSteps=50,\n    )"
      ]
    },
    {
      "cell_type": "markdown",
      "metadata": {},
      "source": [
        "## Setup: Helper function to display the learned clusters\n\n"
      ]
    },
    {
      "cell_type": "code",
      "execution_count": null,
      "metadata": {
        "collapsed": false
      },
      "outputs": [],
      "source": [
        "def show_clusters_over_time(\n        task_output_path=None,\n        query_laps=[0, 1, 2, 10, 20, None],\n        nrows=2):\n    '''\n    '''\n    ncols = int(np.ceil(len(query_laps) // float(nrows)))\n    fig_handle, ax_handle_list = pylab.subplots(\n        figsize=(FIG_SIZE[0] * ncols, FIG_SIZE[1] * nrows),\n        nrows=nrows, ncols=ncols, sharex=True, sharey=True)\n    for plot_id, lap_val in enumerate(query_laps):\n        cur_model, lap_val = bnpy.load_model_at_lap(task_output_path, lap_val)\n        cur_ax_handle = ax_handle_list.flatten()[plot_id]\n        bnpy.viz.PlotComps.plotCompsFromHModel(\n            cur_model, dataset=dataset, ax_handle=cur_ax_handle)\n        cur_ax_handle.set_title(\"lap: %d\" % lap_val)\n        cur_ax_handle.set_xlabel(dataset.column_names[0])\n        cur_ax_handle.set_ylabel(dataset.column_names[1])\n        cur_ax_handle.set_xlim(data_ax_h.get_xlim())\n        cur_ax_handle.set_ylim(data_ax_h.get_ylim())\n    pylab.tight_layout()"
      ]
    },
    {
      "cell_type": "markdown",
      "metadata": {},
      "source": [
        "## *DiagGauss* observation model, without moves\n\nStart with too many clusters (K=25)\n\n"
      ]
    },
    {
      "cell_type": "code",
      "execution_count": null,
      "metadata": {
        "collapsed": false
      },
      "outputs": [],
      "source": [
        "gamma = 5.0\nsF = 5.0\nK = 25\n\ndiag1_trained_model, diag1_info_dict = bnpy.run(\n    dataset, 'DPMixtureModel', 'DiagGauss', 'memoVB',\n    output_path=('/tmp/faithful/' + \n        'trymoves-K=%d-gamma=%s-lik=DiagGauss-ECovMat=%s*eye-moves=none/' % (\n            K, gamma, sF)),\n    nLap=1000, nTask=1, nBatch=1, convergeThr=0.0001,\n    gamma0=gamma, sF=sF, ECovMat='eye',\n    K=K, initname='randexamplesbydist',\n    )\nshow_clusters_over_time(diag1_info_dict['task_output_path'])"
      ]
    },
    {
      "cell_type": "markdown",
      "metadata": {},
      "source": [
        "## *DiagGauss* observation model\n\nStart with too many clusters (K=25)\nUse merges and deletes to reduce to a better set.\n\n"
      ]
    },
    {
      "cell_type": "code",
      "execution_count": null,
      "metadata": {
        "collapsed": false
      },
      "outputs": [],
      "source": [
        "gamma = 5.0\nsF = 5.0\nK = 25\n\ndiag_trained_model, diag_info_dict = bnpy.run(\n    dataset, 'DPMixtureModel', 'DiagGauss', 'memoVB',\n    output_path=('/tmp/faithful/' + \n        'trymoves-K=%d-gamma=%s-lik=DiagGauss-ECovMat=%s*eye-moves=merge,delete,shuffle/' % (\n            K, gamma, sF)),\n    nLap=100, nTask=1, nBatch=1,\n    gamma0=gamma, sF=sF, ECovMat='eye',\n    K=K, initname='randexamplesbydist',\n    moves='merge,delete,shuffle',\n    **dict(list(delete_kwargs.items()) + list(merge_kwargs.items())))\n\nshow_clusters_over_time(diag_info_dict['task_output_path'])"
      ]
    },
    {
      "cell_type": "markdown",
      "metadata": {},
      "source": [
        "## *Gauss* observation model\n\nStart with too many clusters (K=25)\nUse merges and deletes to reduce to a better set.\n\n"
      ]
    },
    {
      "cell_type": "code",
      "execution_count": null,
      "metadata": {
        "collapsed": false
      },
      "outputs": [],
      "source": [
        "full_trained_model, full_info_dict = bnpy.run(\n    dataset, 'DPMixtureModel', 'Gauss', 'memoVB',\n    output_path=('/tmp/faithful/' + \n        'trymoves-K=%d-gamma=%s-lik-Gauss-ECovMat=%s*eye-moves=merge,delete,shuffle/' % (\n            K, gamma, sF)),\n    nLap=100, nTask=1, nBatch=1,\n    gamma0=gamma, sF=sF, ECovMat='eye',\n    K=K, initname='randexamplesbydist',\n    moves='merge,delete,shuffle',\n    **dict(list(delete_kwargs.items()) + list(merge_kwargs.items())))\n\nshow_clusters_over_time(full_info_dict['task_output_path'])"
      ]
    },
    {
      "cell_type": "markdown",
      "metadata": {},
      "source": [
        "## Loss function trace plot\n\n\n"
      ]
    },
    {
      "cell_type": "code",
      "execution_count": null,
      "metadata": {
        "collapsed": false
      },
      "outputs": [],
      "source": [
        "pylab.figure()\npylab.plot(\n    diag1_info_dict['lap_history'][2:],\n    diag1_info_dict['loss_history'][2:], 'r.-',\n    label='diag_covar fixed')\npylab.plot(\n    diag_info_dict['lap_history'][2:],\n    diag_info_dict['loss_history'][2:], 'k.-',\n    label='diag_covar + moves')\npylab.plot(\n    full_info_dict['lap_history'][2:],\n    full_info_dict['loss_history'][2:], 'b.-',\n    label='full_covar + moves')\npylab.legend(loc='upper right')\npylab.xlabel('num. laps')\npylab.ylabel('loss')\npylab.tight_layout()"
      ]
    }
  ],
  "metadata": {
    "kernelspec": {
      "display_name": "Python 3",
      "language": "python",
      "name": "python3"
    },
    "language_info": {
      "codemirror_mode": {
        "name": "ipython",
        "version": 3
      },
      "file_extension": ".py",
      "mimetype": "text/x-python",
      "name": "python",
      "nbconvert_exporter": "python",
      "pygments_lexer": "ipython3",
      "version": "3.8.13"
    }
  },
  "nbformat": 4,
  "nbformat_minor": 0
}