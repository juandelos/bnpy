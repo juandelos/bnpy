{
  "cells": [
    {
      "cell_type": "code",
      "execution_count": null,
      "metadata": {
        "collapsed": false
      },
      "outputs": [],
      "source": [
        "%matplotlib inline"
      ]
    },
    {
      "cell_type": "markdown",
      "metadata": {},
      "source": [
        "\n# 01: Standard variational training for mixture model\n\nHow to train a mixture of multinomials.\n"
      ]
    },
    {
      "cell_type": "code",
      "execution_count": null,
      "metadata": {
        "collapsed": false
      },
      "outputs": [],
      "source": [
        "import bnpy\nimport numpy as np\nimport os\n\nfrom matplotlib import pylab\nimport seaborn as sns\n\nFIG_SIZE = (3, 3)\nSMALL_FIG_SIZE = (1,1)\npylab.rcParams['figure.figsize'] = FIG_SIZE"
      ]
    },
    {
      "cell_type": "markdown",
      "metadata": {},
      "source": [
        "Read toy \"bars\" dataset from file.\n\n"
      ]
    },
    {
      "cell_type": "code",
      "execution_count": null,
      "metadata": {
        "collapsed": false
      },
      "outputs": [],
      "source": [
        "dataset_path = os.path.join(bnpy.DATASET_PATH, 'bars_many_per_doc')\ndataset = bnpy.data.BagOfWordsData.read_npz(\n    os.path.join(dataset_path, 'dataset.npz'))"
      ]
    },
    {
      "cell_type": "markdown",
      "metadata": {},
      "source": [
        "Make a simple plot of the raw data\n\n"
      ]
    },
    {
      "cell_type": "code",
      "execution_count": null,
      "metadata": {
        "collapsed": false
      },
      "outputs": [],
      "source": [
        "X_csr_DV = dataset.getSparseDocTypeCountMatrix()\nbnpy.viz.BarsViz.show_square_images(\n    X_csr_DV[:10].toarray(), vmin=0, vmax=5)\n#pylab.colorbar()\n#pylab.clabel('word count')\npylab.tight_layout()"
      ]
    },
    {
      "cell_type": "markdown",
      "metadata": {},
      "source": [
        "Let's do one single run of the VB algorithm.\n\nUsing 10 clusters and the 'randexamples' initializatio procedure.\n\n"
      ]
    },
    {
      "cell_type": "code",
      "execution_count": null,
      "metadata": {
        "collapsed": false
      },
      "outputs": [],
      "source": [
        "trained_model, info_dict = bnpy.run(\n    dataset, 'FiniteMixtureModel', 'Mult', 'VB',\n    output_path='/tmp/bars_many_per_doc/helloworld-K=10/',\n    nLap=1000, convergeThr=0.0001,\n    K=10, initname='randomlikewang',\n    gamma0=50.0, lam=0.1)"
      ]
    },
    {
      "cell_type": "markdown",
      "metadata": {},
      "source": [
        "First, we can plot the loss function over time\nWe'll skip the first few iterations, since performance is quite bad.\n\n\n"
      ]
    },
    {
      "cell_type": "code",
      "execution_count": null,
      "metadata": {
        "collapsed": false
      },
      "outputs": [],
      "source": [
        "pylab.figure(figsize=FIG_SIZE)\npylab.plot(info_dict['lap_history'][2:], info_dict['loss_history'][2:], 'k.-')\npylab.xlabel('num. laps')\npylab.ylabel('loss')\npylab.tight_layout()"
      ]
    },
    {
      "cell_type": "markdown",
      "metadata": {},
      "source": [
        "Setup: Useful function to display learned bar structure over time.\n\n"
      ]
    },
    {
      "cell_type": "code",
      "execution_count": null,
      "metadata": {
        "collapsed": false
      },
      "outputs": [],
      "source": [
        "def show_bars_over_time(\n        task_output_path=None,\n        query_laps=[0, 1, 2, 5, None],\n        ncols=10):\n    '''\n    '''\n    nrows = len(query_laps)\n    fig_handle, ax_handles_RC = pylab.subplots(\n        figsize=(SMALL_FIG_SIZE[0] * ncols, SMALL_FIG_SIZE[1] * nrows),\n        nrows=nrows, ncols=ncols, sharex=True, sharey=True)\n    for row_id, lap_val in enumerate(query_laps):\n        cur_model, lap_val = bnpy.load_model_at_lap(task_output_path, lap_val)\n        cur_topics_KV = cur_model.obsModel.getTopics()\n        # Plot the current model\n        cur_ax_list = ax_handles_RC[row_id].flatten().tolist()\n        bnpy.viz.BarsViz.show_square_images(\n            cur_topics_KV,\n            vmin=0.0, vmax=0.06,\n            ax_list=cur_ax_list)\n        cur_ax_list[0].set_ylabel(\"lap: %d\" % lap_val)\n    pylab.tight_layout()"
      ]
    },
    {
      "cell_type": "markdown",
      "metadata": {},
      "source": [
        "Show the clusters over time\n\n"
      ]
    },
    {
      "cell_type": "code",
      "execution_count": null,
      "metadata": {
        "collapsed": false
      },
      "outputs": [],
      "source": [
        "show_bars_over_time(info_dict['task_output_path'])"
      ]
    }
  ],
  "metadata": {
    "kernelspec": {
      "display_name": "Python 3",
      "language": "python",
      "name": "python3"
    },
    "language_info": {
      "codemirror_mode": {
        "name": "ipython",
        "version": 3
      },
      "file_extension": ".py",
      "mimetype": "text/x-python",
      "name": "python",
      "nbconvert_exporter": "python",
      "pygments_lexer": "ipython3",
      "version": "3.8.13"
    }
  },
  "nbformat": 4,
  "nbformat_minor": 0
}