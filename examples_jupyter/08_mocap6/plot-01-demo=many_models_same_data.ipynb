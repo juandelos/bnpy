{
  "cells": [
    {
      "cell_type": "code",
      "execution_count": null,
      "metadata": {
        "collapsed": false
      },
      "outputs": [],
      "source": [
        "%matplotlib inline"
      ]
    },
    {
      "cell_type": "markdown",
      "metadata": {},
      "source": [
        "\n# Comparing models for sequential data\n\nHow to train mixtures and HMMs with various observation models on the same dataset.\n"
      ]
    },
    {
      "cell_type": "code",
      "execution_count": null,
      "metadata": {
        "collapsed": false
      },
      "outputs": [],
      "source": [
        "# sphinx_gallery_thumbnail_number = 1\n\nimport bnpy\nimport numpy as np\nimport os\n\nfrom matplotlib import pylab\nimport seaborn as sns\n\nSMALL_FIG_SIZE = (2.5, 2.5)\nFIG_SIZE = (5, 5)\npylab.rcParams['figure.figsize'] = FIG_SIZE"
      ]
    },
    {
      "cell_type": "markdown",
      "metadata": {},
      "source": [
        "Load dataset from file\n\n"
      ]
    },
    {
      "cell_type": "code",
      "execution_count": null,
      "metadata": {
        "collapsed": false
      },
      "outputs": [],
      "source": [
        "dataset_path = os.path.join(bnpy.DATASET_PATH, 'mocap6')\ndataset = bnpy.data.GroupXData.read_npz(\n    os.path.join(dataset_path, 'dataset.npz'))"
      ]
    },
    {
      "cell_type": "markdown",
      "metadata": {},
      "source": [
        "## Setup: Function to make a simple plot of the raw data\n\n"
      ]
    },
    {
      "cell_type": "code",
      "execution_count": null,
      "metadata": {
        "collapsed": false
      },
      "outputs": [],
      "source": [
        "def show_single_sequence(seq_id):\n    start = dataset.doc_range[seq_id]\n    stop = dataset.doc_range[seq_id + 1]\n    for dim in range(12):\n        X_seq = dataset.X[start:stop]\n        pylab.plot(X_seq[:, dim], '.-')\n    pylab.xlabel('time')\n    pylab.ylabel('angle')\n    pylab.tight_layout()"
      ]
    },
    {
      "cell_type": "markdown",
      "metadata": {},
      "source": [
        "## Visualization of the first sequence\n\n"
      ]
    },
    {
      "cell_type": "code",
      "execution_count": null,
      "metadata": {
        "collapsed": false
      },
      "outputs": [],
      "source": [
        "show_single_sequence(0)"
      ]
    },
    {
      "cell_type": "markdown",
      "metadata": {},
      "source": [
        "## Visualization of the second sequence\n\n"
      ]
    },
    {
      "cell_type": "code",
      "execution_count": null,
      "metadata": {
        "collapsed": false
      },
      "outputs": [],
      "source": [
        "show_single_sequence(1)"
      ]
    },
    {
      "cell_type": "markdown",
      "metadata": {},
      "source": [
        "## Setup: hyperparameters\n\n"
      ]
    },
    {
      "cell_type": "code",
      "execution_count": null,
      "metadata": {
        "collapsed": false
      },
      "outputs": [],
      "source": [
        "K = 20            # Number of clusters/states\n\ngamma = 5.0       # top-level Dirichlet concentration parameter\ntransAlpha = 0.5  # trans-level Dirichlet concentration parameter \n\nsF = 1.0          # Set observation model prior so E[covariance] = identity\nECovMat = 'eye'"
      ]
    },
    {
      "cell_type": "markdown",
      "metadata": {},
      "source": [
        "## DP mixture with *DiagGauss* observation model\n\n"
      ]
    },
    {
      "cell_type": "code",
      "execution_count": null,
      "metadata": {
        "collapsed": false
      },
      "outputs": [],
      "source": [
        "mixdiag_trained_model, mixdiag_info_dict = bnpy.run(\n    dataset, 'DPMixtureModel', 'DiagGauss', 'memoVB',\n    output_path='/tmp/mocap6/showcase-K=20-model=DP+DiagGauss-ECovMat=1*eye/',\n    nLap=50, nTask=1, nBatch=1, convergeThr=0.0001,\n    gamma=gamma, sF=sF, ECovMat=ECovMat,\n    K=K, initname='randexamples',\n    )"
      ]
    },
    {
      "cell_type": "markdown",
      "metadata": {},
      "source": [
        "## HDP-HMM with *DiagGauss* observation model\n\nAssume diagonal covariances.\n\nStart with too many clusters (K=20)\n\n"
      ]
    },
    {
      "cell_type": "code",
      "execution_count": null,
      "metadata": {
        "collapsed": false
      },
      "outputs": [],
      "source": [
        "hmmdiag_trained_model, hmmdiag_info_dict = bnpy.run(\n    dataset, 'HDPHMM', 'DiagGauss', 'memoVB',\n    output_path='/tmp/mocap6/showcase-K=20-model=HDPHMM+DiagGauss-ECovMat=1*eye/',\n    nLap=50, nTask=1, nBatch=1, convergeThr=0.0001,\n    transAlpha=transAlpha, gamma=gamma, sF=sF, ECovMat=ECovMat,\n    K=K, initname='randexamples',\n    )"
      ]
    },
    {
      "cell_type": "markdown",
      "metadata": {},
      "source": [
        "## HDP-HMM with *Gauss* observation model\n\nAssume full covariances.\n\nStart with too many clusters (K=20)\n\n"
      ]
    },
    {
      "cell_type": "code",
      "execution_count": null,
      "metadata": {
        "collapsed": false
      },
      "outputs": [],
      "source": [
        "hmmfull_trained_model, hmmfull_info_dict = bnpy.run(\n    dataset, 'HDPHMM', 'Gauss', 'memoVB',\n    output_path='/tmp/mocap6/showcase-K=20-model=HDPHMM+Gauss-ECovMat=1*eye/',\n    nLap=50, nTask=1, nBatch=1, convergeThr=0.0001,\n    transAlpha=transAlpha, gamma=gamma, sF=sF, ECovMat=ECovMat,\n    K=K, initname='randexamples',\n    )"
      ]
    },
    {
      "cell_type": "markdown",
      "metadata": {},
      "source": [
        "## HDP-HMM with *AutoRegGauss* observation model\n\nAssume full covariances.\n\nStart with too many clusters (K=20)\n\n"
      ]
    },
    {
      "cell_type": "code",
      "execution_count": null,
      "metadata": {
        "collapsed": false
      },
      "outputs": [],
      "source": [
        "hmmar_trained_model, hmmar_info_dict = bnpy.run(\n    dataset, 'HDPHMM', 'AutoRegGauss', 'memoVB',\n    output_path='/tmp/mocap6/showcase-K=20-model=HDPHMM+AutoRegGauss-ECovMat=1*eye/',\n    nLap=50, nTask=1, nBatch=1, convergeThr=0.0001,\n    transAlpha=transAlpha, gamma=gamma, sF=sF, ECovMat=ECovMat,\n    K=K, initname='randexamples',\n    )"
      ]
    },
    {
      "cell_type": "markdown",
      "metadata": {},
      "source": [
        "## Compare loss function traces for all methods\n\n\n"
      ]
    },
    {
      "cell_type": "code",
      "execution_count": null,
      "metadata": {
        "collapsed": false
      },
      "outputs": [],
      "source": [
        "pylab.figure()\n\npylab.plot(\n    mixdiag_info_dict['lap_history'],\n    mixdiag_info_dict['loss_history'], 'b.-',\n    label='mix + diag gauss')\npylab.plot(\n    hmmdiag_info_dict['lap_history'],\n    hmmdiag_info_dict['loss_history'], 'k.-',\n    label='hmm + diag gauss')\npylab.plot(\n    hmmfull_info_dict['lap_history'],\n    hmmfull_info_dict['loss_history'], 'r.-',\n    label='hmm + full gauss')\npylab.plot(\n    hmmar_info_dict['lap_history'],\n    hmmar_info_dict['loss_history'], 'c.-',\n    label='hmm + ar gauss')\npylab.legend(loc='upper right')\npylab.xlabel('num. laps')\npylab.ylabel('loss')\npylab.xlim([4, 100]) # avoid early iterations\npylab.ylim([2.4, 3.7]) # handpicked\npylab.draw()\npylab.tight_layout()"
      ]
    }
  ],
  "metadata": {
    "kernelspec": {
      "display_name": "Python 3",
      "language": "python",
      "name": "python3"
    },
    "language_info": {
      "codemirror_mode": {
        "name": "ipython",
        "version": 3
      },
      "file_extension": ".py",
      "mimetype": "text/x-python",
      "name": "python",
      "nbconvert_exporter": "python",
      "pygments_lexer": "ipython3",
      "version": "3.8.13"
    }
  },
  "nbformat": 4,
  "nbformat_minor": 0
}