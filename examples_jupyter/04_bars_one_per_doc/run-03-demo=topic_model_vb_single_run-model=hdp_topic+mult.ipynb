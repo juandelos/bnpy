{
  "cells": [
    {
      "cell_type": "code",
      "execution_count": null,
      "metadata": {
        "collapsed": false
      },
      "outputs": [],
      "source": [
        "%matplotlib inline"
      ]
    },
    {
      "cell_type": "markdown",
      "metadata": {},
      "source": [
        "\n# 03: Standard variational training for topic model\n"
      ]
    },
    {
      "cell_type": "code",
      "execution_count": null,
      "metadata": {
        "collapsed": false
      },
      "outputs": [],
      "source": [
        "import bnpy\nimport numpy as np\nimport os\n\nfrom matplotlib import pylab\nimport seaborn as sns\n\nFIG_SIZE = (3, 3)\nSMALL_FIG_SIZE = (1,1)\npylab.rcParams['figure.figsize'] = FIG_SIZE"
      ]
    },
    {
      "cell_type": "markdown",
      "metadata": {},
      "source": [
        "Read dataset from file.\n\n"
      ]
    },
    {
      "cell_type": "code",
      "execution_count": null,
      "metadata": {
        "collapsed": false
      },
      "outputs": [],
      "source": [
        "dataset_path = os.path.join(bnpy.DATASET_PATH, 'bars_one_per_doc')\ndataset = bnpy.data.BagOfWordsData.read_npz(\n    os.path.join(dataset_path, 'dataset.npz'))"
      ]
    },
    {
      "cell_type": "markdown",
      "metadata": {},
      "source": [
        "Make a simple plot of the raw data\n\n"
      ]
    },
    {
      "cell_type": "code",
      "execution_count": null,
      "metadata": {
        "collapsed": false
      },
      "outputs": [],
      "source": [
        "X_csr_DV = dataset.getSparseDocTypeCountMatrix()\nbnpy.viz.BarsViz.show_square_images(\n    X_csr_DV[:10].toarray(), vmin=0, vmax=5)\npylab.tight_layout()"
      ]
    },
    {
      "cell_type": "markdown",
      "metadata": {},
      "source": [
        "Setup: Function to show bars from start to end of training run\n\n"
      ]
    },
    {
      "cell_type": "code",
      "execution_count": null,
      "metadata": {
        "collapsed": false
      },
      "outputs": [],
      "source": [
        "def show_bars_over_time(\n        task_output_path=None,\n        query_laps=[0, 1, 2, 5, None],\n        ncols=10):\n    '''\n    '''\n    nrows = len(query_laps)\n    fig_handle, ax_handles_RC = pylab.subplots(\n        figsize=(SMALL_FIG_SIZE[0] * ncols, SMALL_FIG_SIZE[1] * nrows),\n        nrows=nrows, ncols=ncols, sharex=True, sharey=True)\n    for row_id, lap_val in enumerate(query_laps):\n        cur_model, lap_val = bnpy.load_model_at_lap(task_output_path, lap_val)\n        cur_topics_KV = cur_model.obsModel.getTopics()\n        # Plot the current model\n        cur_ax_list = ax_handles_RC[row_id].flatten().tolist()\n        bnpy.viz.BarsViz.show_square_images(\n            cur_topics_KV,\n            vmin=0.0, vmax=0.06,\n            ax_list=cur_ax_list)\n        cur_ax_list[0].set_ylabel(\"lap: %d\" % lap_val)\n    pylab.tight_layout()"
      ]
    },
    {
      "cell_type": "markdown",
      "metadata": {},
      "source": [
        "## Train LDA topic model\n\nUsing 10 clusters and the 'randexamples' initialization procedure.\n\n"
      ]
    },
    {
      "cell_type": "code",
      "execution_count": null,
      "metadata": {
        "collapsed": false
      },
      "outputs": [],
      "source": [
        "local_step_kwargs = dict(\n    # perform at most this many iterations at each document\n    nCoordAscentItersLP=100,\n    # stop local iters early when max change in doc-topic counts < this thr\n    convThrLP=0.001,\n    )\n\ntrained_model, info_dict = bnpy.run(\n    dataset, 'FiniteTopicModel', 'Mult', 'VB',\n    output_path='/tmp/bars_one_per_doc/helloworld-model=topic+mult-K=10/',\n    nLap=100, convergeThr=0.01,\n    K=10, initname='randomlikewang',\n    alpha=0.5, lam=0.1,\n    **local_step_kwargs)"
      ]
    },
    {
      "cell_type": "markdown",
      "metadata": {},
      "source": [
        "First, we can plot the loss function over time\nWe'll skip the first few iterations, since performance is quite bad.\n\n\n"
      ]
    },
    {
      "cell_type": "code",
      "execution_count": null,
      "metadata": {
        "collapsed": false
      },
      "outputs": [],
      "source": [
        "pylab.figure(figsize=FIG_SIZE)\npylab.plot(info_dict['lap_history'][1:], info_dict['loss_history'][1:], 'k.-')\npylab.xlabel('num. laps')\npylab.ylabel('loss')\npylab.tight_layout()"
      ]
    },
    {
      "cell_type": "markdown",
      "metadata": {},
      "source": [
        "Show the clusters over time\n\n"
      ]
    },
    {
      "cell_type": "code",
      "execution_count": null,
      "metadata": {
        "collapsed": false
      },
      "outputs": [],
      "source": [
        "show_bars_over_time(info_dict['task_output_path'])"
      ]
    },
    {
      "cell_type": "markdown",
      "metadata": {},
      "source": [
        "## Train LDA topic model with restarts\n\nUsing 10 clusters and the 'randexamples' initialization procedure.\n\n"
      ]
    },
    {
      "cell_type": "code",
      "execution_count": null,
      "metadata": {
        "collapsed": false
      },
      "outputs": [],
      "source": [
        "r_local_step_kwargs = dict(\n    # perform at most this many iterations at each document\n    nCoordAscentItersLP=100,\n    # stop local iters early when max change in doc-topic counts < this thr\n    convThrLP=0.001,\n    # perform restart proposals at each document\n    restartLP=1,\n    restartNumItersLP=5,\n    restartNumTrialsLP=5,\n    )\n\nr_trained_model, r_info_dict = bnpy.run(\n    dataset, 'FiniteTopicModel', 'Mult', 'VB',\n    output_path='/tmp/bars_one_per_doc/helloworld-model=topic+mult-K=10-localstep=restarts/',\n    nLap=100, convergeThr=0.01,\n    K=10, initname='randomlikewang',\n    alpha=0.5, lam=0.1,\n    **r_local_step_kwargs)\n\nshow_bars_over_time(r_info_dict['task_output_path'])"
      ]
    }
  ],
  "metadata": {
    "kernelspec": {
      "display_name": "Python 3",
      "language": "python",
      "name": "python3"
    },
    "language_info": {
      "codemirror_mode": {
        "name": "ipython",
        "version": 3
      },
      "file_extension": ".py",
      "mimetype": "text/x-python",
      "name": "python",
      "nbconvert_exporter": "python",
      "pygments_lexer": "ipython3",
      "version": "3.8.13"
    }
  },
  "nbformat": 4,
  "nbformat_minor": 0
}