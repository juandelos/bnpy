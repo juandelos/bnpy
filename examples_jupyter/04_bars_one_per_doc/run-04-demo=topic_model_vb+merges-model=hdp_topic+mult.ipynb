{
  "cells": [
    {
      "cell_type": "code",
      "execution_count": null,
      "metadata": {
        "collapsed": false
      },
      "outputs": [],
      "source": [
        "%matplotlib inline"
      ]
    },
    {
      "cell_type": "markdown",
      "metadata": {},
      "source": [
        "\n# 04: Training HDP Topic Model with merge proposals\n"
      ]
    },
    {
      "cell_type": "code",
      "execution_count": null,
      "metadata": {
        "collapsed": false
      },
      "outputs": [],
      "source": [
        "import bnpy\nimport numpy as np\nimport os\nimport sys\n\nfrom matplotlib import pylab\nimport seaborn as sns\n\nFIG_SIZE = (3, 3)\nSMALL_FIG_SIZE = (1,1)\npylab.rcParams['figure.figsize'] = FIG_SIZE"
      ]
    },
    {
      "cell_type": "markdown",
      "metadata": {},
      "source": [
        "Read dataset from file.\n\n"
      ]
    },
    {
      "cell_type": "code",
      "execution_count": null,
      "metadata": {
        "collapsed": false
      },
      "outputs": [],
      "source": [
        "dataset_path = os.path.join(bnpy.DATASET_PATH, 'bars_one_per_doc')\ndataset = bnpy.data.BagOfWordsData.read_npz(\n    os.path.join(dataset_path, 'dataset.npz'))"
      ]
    },
    {
      "cell_type": "markdown",
      "metadata": {},
      "source": [
        "Set the local step algorithmic keyword args\n\n"
      ]
    },
    {
      "cell_type": "code",
      "execution_count": null,
      "metadata": {
        "collapsed": false
      },
      "outputs": [],
      "source": [
        "local_step_kwargs = dict(\n    # Perform at most this many iterations at each document\n    nCoordAscentItersLP=100,\n    # Stop local iters early when max change in doc-topic counts < this thr\n    convThrLP=0.001,\n    restartLP=0,\n    doMemoizeLocalParams=0,\n    )\n\nmerge_kwargs = dict(\n    m_startLap=5,\n    m_pair_ranking_procedure='total_size',\n    m_pair_ranking_direction='descending',\n    )"
      ]
    },
    {
      "cell_type": "markdown",
      "metadata": {},
      "source": [
        "Run the VB+proposals algorithm\nwith only merges and re-shuffling.\n\nInitialization: 10 topics, using randomlikewang\n\n"
      ]
    },
    {
      "cell_type": "code",
      "execution_count": null,
      "metadata": {
        "collapsed": false
      },
      "outputs": [],
      "source": [
        "trained_model, info_dict = bnpy.run(\n    dataset, 'HDPTopicModel', 'Mult', 'memoVB',\n    output_path=\n        '/tmp/bars_one_per_doc/' + \n        'trymoves-model=hdp+mult-K=10-moves=merge,shuffle/',\n    nLap=50, convergeThr=0.001, nBatch=1,\n    K=10, initname='randomlikewang',\n    alpha=0.5, lam=0.1,\n    moves='merge,shuffle',\n    **dict(list(merge_kwargs.items()) + list(local_step_kwargs.items())))"
      ]
    },
    {
      "cell_type": "code",
      "execution_count": null,
      "metadata": {
        "collapsed": false
      },
      "outputs": [],
      "source": [
        "def show_bars_over_time(\n        task_output_path=None,\n        query_laps=[0, 1, 2, 5, None],\n        ncols=10):\n    ''' Show square-image visualization of estimated topics over time.\n\n    Post Condition\n    --------------\n    New matplotlib figure with visualization (one row per lap).\n    '''\n    nrows = len(query_laps)\n    fig_handle, ax_handles_RC = pylab.subplots(\n        figsize=(SMALL_FIG_SIZE[0] * ncols, SMALL_FIG_SIZE[1] * nrows),\n        nrows=nrows, ncols=ncols, sharex=True, sharey=True)\n    for row_id, lap_val in enumerate(query_laps):\n        cur_model, lap_val = bnpy.load_model_at_lap(task_output_path, lap_val)\n        cur_topics_KV = cur_model.obsModel.getTopics()\n        # Plot the current model\n        cur_ax_list = ax_handles_RC[row_id].flatten().tolist()\n        bnpy.viz.BarsViz.show_square_images(\n            cur_topics_KV,\n            vmin=0.0, vmax=0.06,\n            ax_list=cur_ax_list)\n        cur_ax_list[0].set_ylabel(\"lap: %d\" % lap_val)\n    pylab.tight_layout()"
      ]
    },
    {
      "cell_type": "markdown",
      "metadata": {},
      "source": [
        "Examine the bars over time\n\n"
      ]
    },
    {
      "cell_type": "code",
      "execution_count": null,
      "metadata": {
        "collapsed": false
      },
      "outputs": [],
      "source": [
        "show_bars_over_time(info_dict['task_output_path'])"
      ]
    }
  ],
  "metadata": {
    "kernelspec": {
      "display_name": "Python 3",
      "language": "python",
      "name": "python3"
    },
    "language_info": {
      "codemirror_mode": {
        "name": "ipython",
        "version": 3
      },
      "file_extension": ".py",
      "mimetype": "text/x-python",
      "name": "python",
      "nbconvert_exporter": "python",
      "pygments_lexer": "ipython3",
      "version": "3.8.13"
    }
  },
  "nbformat": 4,
  "nbformat_minor": 0
}