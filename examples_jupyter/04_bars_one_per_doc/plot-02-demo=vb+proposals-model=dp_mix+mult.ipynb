{
  "cells": [
    {
      "cell_type": "code",
      "execution_count": null,
      "metadata": {
        "collapsed": false
      },
      "outputs": [],
      "source": [
        "%matplotlib inline"
      ]
    },
    {
      "cell_type": "markdown",
      "metadata": {},
      "source": [
        "\n# 02: Training DP mixture model with birth and merge proposals\n\nHow to train a DP mixture of multinomials.\n"
      ]
    },
    {
      "cell_type": "code",
      "execution_count": null,
      "metadata": {
        "collapsed": false
      },
      "outputs": [],
      "source": [
        "import bnpy\nimport numpy as np\nimport os\n\nfrom matplotlib import pylab\nimport seaborn as sns\n\nFIG_SIZE = (3, 3)\nSMALL_FIG_SIZE = (1.5, 1.5)\npylab.rcParams['figure.figsize'] = FIG_SIZE"
      ]
    },
    {
      "cell_type": "markdown",
      "metadata": {},
      "source": [
        "Read dataset from file.\n\n"
      ]
    },
    {
      "cell_type": "code",
      "execution_count": null,
      "metadata": {
        "collapsed": false
      },
      "outputs": [],
      "source": [
        "dataset_path = os.path.join(bnpy.DATASET_PATH, 'bars_one_per_doc')\ndataset = bnpy.data.BagOfWordsData.read_npz(\n    os.path.join(dataset_path, 'dataset.npz'))"
      ]
    },
    {
      "cell_type": "markdown",
      "metadata": {},
      "source": [
        "Make a simple plot of the raw data\n\n"
      ]
    },
    {
      "cell_type": "code",
      "execution_count": null,
      "metadata": {
        "collapsed": false
      },
      "outputs": [],
      "source": [
        "X_csr_DV = dataset.getSparseDocTypeCountMatrix()\nbnpy.viz.BarsViz.show_square_images(\n    X_csr_DV[:10].toarray(), vmin=0, vmax=5)\npylab.tight_layout()"
      ]
    },
    {
      "cell_type": "markdown",
      "metadata": {},
      "source": [
        "Setup: Function to show bars from start to end of training run\n\n"
      ]
    },
    {
      "cell_type": "code",
      "execution_count": null,
      "metadata": {
        "collapsed": false
      },
      "outputs": [],
      "source": [
        "def show_bars_over_time(\n        task_output_path=None,\n        query_laps=[0, 1, 2, 5, None],\n        ncols=10):\n    '''\n    '''\n    nrows = len(query_laps)\n    fig_handle, ax_handles_RC = pylab.subplots(\n        figsize=(SMALL_FIG_SIZE[0] * ncols, SMALL_FIG_SIZE[1] * nrows),\n        nrows=nrows, ncols=ncols, sharex=True, sharey=True)\n    for row_id, lap_val in enumerate(query_laps):\n        cur_model, lap_val = bnpy.load_model_at_lap(task_output_path, lap_val)\n        cur_topics_KV = cur_model.obsModel.getTopics()\n        # Plot the current model\n        cur_ax_list = ax_handles_RC[row_id].flatten().tolist()\n        bnpy.viz.BarsViz.show_square_images(\n            cur_topics_KV,\n            vmin=0.0, vmax=0.1,\n            ax_list=cur_ax_list)\n        cur_ax_list[0].set_ylabel(\"lap: %d\" % lap_val)\n    pylab.tight_layout()"
      ]
    },
    {
      "cell_type": "markdown",
      "metadata": {},
      "source": [
        "## From K=2 initial clusters\n\nUsing random initialization\n\n"
      ]
    },
    {
      "cell_type": "code",
      "execution_count": null,
      "metadata": {
        "collapsed": false
      },
      "outputs": [],
      "source": [
        "initname = 'randomlikewang'\nK = 2\n\nK2_trained_model, K2_info_dict = bnpy.run(\n    dataset, 'DPMixtureModel', 'Mult', 'memoVB',\n    output_path='/tmp/bars_one_per_doc/trymoves-K=%d-initname=%s/' % (\n        K, initname),\n    nTask=1, nLap=50, convergeThr=0.0001, nBatch=1,\n    K=K, initname=initname,\n    gamma0=50.0, lam=0.1,\n    moves='birth,merge,shuffle,delete',\n    b_startLap=2,\n    m_startLap=5,\n    d_startLap=10)\n\nshow_bars_over_time(K2_info_dict['task_output_path'])"
      ]
    },
    {
      "cell_type": "markdown",
      "metadata": {},
      "source": [
        "## K=10 initial clusters\n\nUsing random initialization\n\n"
      ]
    },
    {
      "cell_type": "code",
      "execution_count": null,
      "metadata": {
        "collapsed": false
      },
      "outputs": [],
      "source": [
        "initname = 'randomlikewang'\nK = 10\n\nK10_trained_model, K10_info_dict = bnpy.run(\n    dataset, 'DPMixtureModel', 'Mult', 'memoVB',\n    output_path='/tmp/bars_one_per_doc/trymoves-K=%d-initname=%s/' % (\n        K, initname),\n    nTask=1, nLap=50, convergeThr=0.0001, nBatch=1,\n    K=K, initname=initname,\n    gamma0=50.0, lam=0.1,\n    moves='birth,merge,shuffle,delete',\n    b_startLap=2,\n    m_startLap=5,\n    d_startLap=10)\n\nshow_bars_over_time(K10_info_dict['task_output_path'])"
      ]
    },
    {
      "cell_type": "markdown",
      "metadata": {},
      "source": [
        "## Draw sample documents from learned model\n\n\n"
      ]
    },
    {
      "cell_type": "code",
      "execution_count": null,
      "metadata": {
        "collapsed": false
      },
      "outputs": [],
      "source": [
        "# Create random number generator with fixed seed\nprng = np.random.RandomState(54321)\n\n# Preallocate space for 5 generated docs\nn_docs_to_sample = 5\nV = X_csr_DV.shape[1]\ntest_x_DV = np.zeros((n_docs_to_sample, V))\n\nfor doc_id in range(n_docs_to_sample):\n    # Step 1: Pick cluster index *k* that current example is assigned to\n    proba_K = K10_trained_model.allocModel.get_active_comp_probs()\n    k = prng.choice(proba_K.size, p=proba_K / np.sum(proba_K))\n\n    # Step 2: Draw probability-over-vocab from cluster *k*'s Dirichlet posterior\n    lam_k_V = K10_trained_model.obsModel.Post.lam[k]\n    phi_k_V = prng.dirichlet(lam_k_V)\n\n    # Step 3: Draw a document with 50 words using phi_k_V\n    x_d_V = prng.multinomial(50, phi_k_V)\n    test_x_DV[doc_id] = x_d_V\n\nbnpy.viz.BarsViz.show_square_images(\n    test_x_DV, vmin=0, vmax=5)\npylab.tight_layout()\npylab.show(block=False)"
      ]
    }
  ],
  "metadata": {
    "kernelspec": {
      "display_name": "Python 3",
      "language": "python",
      "name": "python3"
    },
    "language_info": {
      "codemirror_mode": {
        "name": "ipython",
        "version": 3
      },
      "file_extension": ".py",
      "mimetype": "text/x-python",
      "name": "python",
      "nbconvert_exporter": "python",
      "pygments_lexer": "ipython3",
      "version": "3.8.13"
    }
  },
  "nbformat": 4,
  "nbformat_minor": 0
}