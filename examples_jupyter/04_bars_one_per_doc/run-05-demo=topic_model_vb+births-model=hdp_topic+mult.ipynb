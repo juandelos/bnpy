{
  "cells": [
    {
      "cell_type": "code",
      "execution_count": null,
      "metadata": {
        "collapsed": false
      },
      "outputs": [],
      "source": [
        "%matplotlib inline"
      ]
    },
    {
      "cell_type": "markdown",
      "metadata": {},
      "source": [
        "\n# 05: Training for HDP Topic Model with birth and merge proposals\n"
      ]
    },
    {
      "cell_type": "code",
      "execution_count": null,
      "metadata": {
        "collapsed": false
      },
      "outputs": [],
      "source": [
        "import bnpy\nimport numpy as np\nimport os\nimport sys\n\nfrom matplotlib import pylab\nimport seaborn as sns\n\nFIG_SIZE = (3, 3)\nSMALL_FIG_SIZE = (1,1)\npylab.rcParams['figure.figsize'] = FIG_SIZE"
      ]
    },
    {
      "cell_type": "markdown",
      "metadata": {},
      "source": [
        "Read dataset from file.\n\n"
      ]
    },
    {
      "cell_type": "code",
      "execution_count": null,
      "metadata": {
        "collapsed": false
      },
      "outputs": [],
      "source": [
        "dataset_path = os.path.join(bnpy.DATASET_PATH, 'bars_one_per_doc')\ndataset = bnpy.data.BagOfWordsData.read_npz(\n    os.path.join(dataset_path, 'dataset.npz'))"
      ]
    },
    {
      "cell_type": "markdown",
      "metadata": {},
      "source": [
        "Set the local step algorithmic keyword args\n\n"
      ]
    },
    {
      "cell_type": "code",
      "execution_count": null,
      "metadata": {
        "collapsed": false
      },
      "outputs": [],
      "source": [
        "local_step_kwargs = dict(\n    # Perform at most this many iterations at each document\n    nCoordAscentItersLP=100,\n    # Stop local iters early when max change in doc-topic counts < this thr\n    convThrLP=0.01,\n    restartLP=0,\n    doMemoizeLocalParams=0,\n    )\n\nmerge_kwargs = dict(\n    m_startLap=5,\n    m_pair_ranking_procedure='total_size',\n    m_pair_ranking_direction='descending',\n    )\n\nbirth_kwargs = dict(\n    b_startLap=2,\n    b_stopLap=6,\n    b_Kfresh=3, \n    b_nRefineSteps=5,\n    )"
      ]
    },
    {
      "cell_type": "markdown",
      "metadata": {},
      "source": [
        "Setup: Helper function to plot bars at each stage of training\n\n"
      ]
    },
    {
      "cell_type": "code",
      "execution_count": null,
      "metadata": {
        "collapsed": false
      },
      "outputs": [],
      "source": [
        "def show_bars_over_time(\n        task_output_path=None,\n        query_laps=[0, 1, 2, 5, None],\n        ncols=10):\n    '''\n    '''\n    nrows = len(query_laps)\n    fig_handle, ax_handles_RC = pylab.subplots(\n        figsize=(SMALL_FIG_SIZE[0] * ncols, SMALL_FIG_SIZE[1] * nrows),\n        nrows=nrows, ncols=ncols, sharex=True, sharey=True)\n    for row_id, lap_val in enumerate(query_laps):\n        cur_model, lap_val = bnpy.load_model_at_lap(task_output_path, lap_val)\n        cur_topics_KV = cur_model.obsModel.getTopics()\n        # Plot the current model\n        cur_ax_list = ax_handles_RC[row_id].flatten().tolist()\n        bnpy.viz.BarsViz.show_square_images(\n            cur_topics_KV,\n            vmin=0.0, vmax=0.06,\n            ax_list=cur_ax_list)\n        cur_ax_list[0].set_ylabel(\"lap: %d\" % lap_val)\n    pylab.tight_layout()"
      ]
    },
    {
      "cell_type": "markdown",
      "metadata": {},
      "source": [
        "## Training from K=3 with births\n\nInitialization: 3 topics, using random initial guess\n\n"
      ]
    },
    {
      "cell_type": "code",
      "execution_count": null,
      "metadata": {
        "collapsed": false
      },
      "outputs": [],
      "source": [
        "trained_model, info_dict = bnpy.run(\n    dataset, 'HDPTopicModel', 'Mult', 'memoVB',\n    output_path='/tmp/bars_one_per_doc/trymoves-model=hdp+mult-K=3-moves=birth,merge,shuffle/',\n    nLap=20, convergeThr=0.001, nBatch=1,\n    K=3, initname='randomlikewang',\n    alpha=0.5, lam=0.1,\n    moves='birth,merge,shuffle',\n    **dict(list(merge_kwargs.items()) +\n           list(local_step_kwargs.items()) + \n           list(birth_kwargs.items())))\n\nshow_bars_over_time(info_dict['task_output_path'])"
      ]
    }
  ],
  "metadata": {
    "kernelspec": {
      "display_name": "Python 3",
      "language": "python",
      "name": "python3"
    },
    "language_info": {
      "codemirror_mode": {
        "name": "ipython",
        "version": 3
      },
      "file_extension": ".py",
      "mimetype": "text/x-python",
      "name": "python",
      "nbconvert_exporter": "python",
      "pygments_lexer": "ipython3",
      "version": "3.8.13"
    }
  },
  "nbformat": 4,
  "nbformat_minor": 0
}